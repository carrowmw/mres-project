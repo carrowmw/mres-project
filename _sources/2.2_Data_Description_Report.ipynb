{
 "cells": [
  {
   "attachments": {},
   "cell_type": "markdown",
   "metadata": {},
   "source": [
    "# 2.2 Data Description Report\n",
    "\n",
    "Here, we'll provide a detailed description of the collected data:\n",
    "\n",
    "* A detailed description of each dataset.\n",
    "* Number of instances and attributes.\n",
    "* Identification of target features.\n",
    "\n",
    "The initial transformations to the data that will take place are:\n",
    "\n",
    "* Setting datatypes for dataframe columns.\n",
    "* Addition of various time fields to aid data exploration.\n",
    "* Isolate a single point location for data exploration (the intersection of Northumberland Street and Saville Row with cameras looking both east and west)."
   ]
  },
  {
   "cell_type": "code",
   "execution_count": 1,
   "metadata": {
    "tags": [
     "hide-input"
    ]
   },
   "outputs": [],
   "source": [
    "# importing required libraries\n",
    "import pandas as pd\n",
    "import numpy as np\n",
    "import os\n",
    "import re\n",
    "import datetime\n",
    "import seaborn as sns\n",
    "import matplotlib.pyplot as plt\n",
    "from matplotlib.cm import ScalarMappable\n",
    "from matplotlib.colors import ListedColormap, LinearSegmentedColormap, Normalize\n",
    "\n",
    "# path to data files\n",
    "RAW_DATA_PATH = \"../data/tom_komar_csv_22_23/\"\n",
    "\n",
    "# dictionary to store dataframes\n",
    "dfs = {}\n",
    "\n",
    "# iterating over all files in the directory\n",
    "for file in os.listdir(RAW_DATA_PATH):\n",
    "    # reading file into a dataframe\n",
    "    df = pd.read_csv(os.path.join(RAW_DATA_PATH, file))\n",
    "    # extracting date from the filename\n",
    "    date = \"-\".join(re.split(r\"[-.]\", file)[-3:-1])\n",
    "    # storing dataframe in the dictionary with date as the key\n",
    "    dfs[date] = df\n",
    "\n",
    "# concatenating all dataframes into a single dataframe\n",
    "concat_df = pd.concat([df.assign(key=key) for key, df in dfs.items()])"
   ]
  },
  {
   "attachments": {},
   "cell_type": "markdown",
   "metadata": {},
   "source": [
    "The raw csv contains extra locations that are not of interest so these will need to be filtered out. The raw data tells us we are dealing with pedestrian flow in the form $n/15m$ where $n$ is the number of pedestrians and $m$ is minutes. We can also see that each row specifies a directional vector. "
   ]
  },
  {
   "cell_type": "code",
   "execution_count": 2,
   "metadata": {
    "tags": [
     "hide-input"
    ]
   },
   "outputs": [
    {
     "name": "stdout",
     "output_type": "stream",
     "text": [
      "Raw data:\n"
     ]
    },
    {
     "data": {
      "text/html": [
       "<div>\n",
       "<style scoped>\n",
       "    .dataframe tbody tr th:only-of-type {\n",
       "        vertical-align: middle;\n",
       "    }\n",
       "\n",
       "    .dataframe tbody tr th {\n",
       "        vertical-align: top;\n",
       "    }\n",
       "\n",
       "    .dataframe thead th {\n",
       "        text-align: right;\n",
       "    }\n",
       "</style>\n",
       "<table border=\"1\" class=\"dataframe\">\n",
       "  <thead>\n",
       "    <tr style=\"text-align: right;\">\n",
       "      <th></th>\n",
       "      <th>dt</th>\n",
       "      <th>value</th>\n",
       "      <th>veh_class</th>\n",
       "      <th>dir</th>\n",
       "      <th>location</th>\n",
       "      <th>category</th>\n",
       "      <th>key</th>\n",
       "    </tr>\n",
       "  </thead>\n",
       "  <tbody>\n",
       "    <tr>\n",
       "      <th>10747</th>\n",
       "      <td>2023-03-11 19:15:00</td>\n",
       "      <td>5</td>\n",
       "      <td>person</td>\n",
       "      <td>from_north_to_south</td>\n",
       "      <td>NclQueenVictoriaRdPercyBuilding</td>\n",
       "      <td>flow</td>\n",
       "      <td>2023-03</td>\n",
       "    </tr>\n",
       "    <tr>\n",
       "      <th>14403</th>\n",
       "      <td>2022-08-18 02:45:00</td>\n",
       "      <td>4</td>\n",
       "      <td>person</td>\n",
       "      <td>southwest_to_northwest</td>\n",
       "      <td>NclNorthumberlandStSavilleRowWest</td>\n",
       "      <td>flow</td>\n",
       "      <td>2022-08</td>\n",
       "    </tr>\n",
       "    <tr>\n",
       "      <th>11185</th>\n",
       "      <td>2022-06-11 20:15:00</td>\n",
       "      <td>9</td>\n",
       "      <td>person</td>\n",
       "      <td>northwest_to_southwest</td>\n",
       "      <td>NclNorthumberlandStSavilleRowWest</td>\n",
       "      <td>flow</td>\n",
       "      <td>2022-06</td>\n",
       "    </tr>\n",
       "    <tr>\n",
       "      <th>1724</th>\n",
       "      <td>2022-03-02 23:15:00</td>\n",
       "      <td>9</td>\n",
       "      <td>person</td>\n",
       "      <td>northeast_to_southeast</td>\n",
       "      <td>NclNorthumberlandStSavilleRowEast</td>\n",
       "      <td>flow</td>\n",
       "      <td>2022-03</td>\n",
       "    </tr>\n",
       "    <tr>\n",
       "      <th>26912</th>\n",
       "      <td>2022-12-31 00:45:00</td>\n",
       "      <td>6</td>\n",
       "      <td>person</td>\n",
       "      <td>north_to_south</td>\n",
       "      <td>NclNorthumberlandStThePearl</td>\n",
       "      <td>flow</td>\n",
       "      <td>2022-12</td>\n",
       "    </tr>\n",
       "  </tbody>\n",
       "</table>\n",
       "</div>"
      ],
      "text/plain": [
       "                        dt  value veh_class                     dir  \\\n",
       "10747  2023-03-11 19:15:00      5    person     from_north_to_south   \n",
       "14403  2022-08-18 02:45:00      4    person  southwest_to_northwest   \n",
       "11185  2022-06-11 20:15:00      9    person  northwest_to_southwest   \n",
       "1724   2022-03-02 23:15:00      9    person  northeast_to_southeast   \n",
       "26912  2022-12-31 00:45:00      6    person          north_to_south   \n",
       "\n",
       "                                location category      key  \n",
       "10747    NclQueenVictoriaRdPercyBuilding     flow  2023-03  \n",
       "14403  NclNorthumberlandStSavilleRowWest     flow  2022-08  \n",
       "11185  NclNorthumberlandStSavilleRowWest     flow  2022-06  \n",
       "1724   NclNorthumberlandStSavilleRowEast     flow  2022-03  \n",
       "26912        NclNorthumberlandStThePearl     flow  2022-12  "
      ]
     },
     "metadata": {},
     "output_type": "display_data"
    },
    {
     "name": "stdout",
     "output_type": "stream",
     "text": [
      "\n",
      "Raw column data types:\n"
     ]
    },
    {
     "data": {
      "text/html": [
       "<div>\n",
       "<style scoped>\n",
       "    .dataframe tbody tr th:only-of-type {\n",
       "        vertical-align: middle;\n",
       "    }\n",
       "\n",
       "    .dataframe tbody tr th {\n",
       "        vertical-align: top;\n",
       "    }\n",
       "\n",
       "    .dataframe thead th {\n",
       "        text-align: right;\n",
       "    }\n",
       "</style>\n",
       "<table border=\"1\" class=\"dataframe\">\n",
       "  <thead>\n",
       "    <tr style=\"text-align: right;\">\n",
       "      <th></th>\n",
       "      <th>dtype</th>\n",
       "    </tr>\n",
       "  </thead>\n",
       "  <tbody>\n",
       "    <tr>\n",
       "      <th>dt</th>\n",
       "      <td>object</td>\n",
       "    </tr>\n",
       "    <tr>\n",
       "      <th>value</th>\n",
       "      <td>int64</td>\n",
       "    </tr>\n",
       "    <tr>\n",
       "      <th>veh_class</th>\n",
       "      <td>object</td>\n",
       "    </tr>\n",
       "    <tr>\n",
       "      <th>dir</th>\n",
       "      <td>object</td>\n",
       "    </tr>\n",
       "    <tr>\n",
       "      <th>location</th>\n",
       "      <td>object</td>\n",
       "    </tr>\n",
       "    <tr>\n",
       "      <th>category</th>\n",
       "      <td>object</td>\n",
       "    </tr>\n",
       "    <tr>\n",
       "      <th>key</th>\n",
       "      <td>object</td>\n",
       "    </tr>\n",
       "  </tbody>\n",
       "</table>\n",
       "</div>"
      ],
      "text/plain": [
       "            dtype\n",
       "dt         object\n",
       "value       int64\n",
       "veh_class  object\n",
       "dir        object\n",
       "location   object\n",
       "category   object\n",
       "key        object"
      ]
     },
     "metadata": {},
     "output_type": "display_data"
    }
   ],
   "source": [
    "# display raw data and data types\n",
    "print(\"Raw data:\")\n",
    "display(concat_df.sample(5, random_state=42))\n",
    "print()\n",
    "print(\"Raw column data types:\")\n",
    "df = pd.DataFrame(concat_df.dtypes)\n",
    "df.columns = [\"dtype\"]\n",
    "display(df)"
   ]
  },
  {
   "cell_type": "code",
   "execution_count": 3,
   "metadata": {
    "tags": [
     "hide-input"
    ]
   },
   "outputs": [],
   "source": [
    "# filtering data for specific locations\n",
    "concat_df = concat_df[\n",
    "    concat_df[\"location\"].isin(\n",
    "        [\"NclNorthumberlandStSavilleRowEast\", \"NclNorthumberlandStSavilleRowWest\"]\n",
    "    )\n",
    "]\n",
    "\n",
    "# splitting 'dt' column into 'date' and 'time' columns\n",
    "concat_df[[\"date\", \"time\"]] = concat_df[\"dt\"].str.split(\" \", expand=True)\n",
    "\n",
    "# converting 'dt', 'date', 'time' columns to datetime format\n",
    "concat_df[\"dt\"] = pd.to_datetime(concat_df[\"dt\"])\n",
    "concat_df[\"date\"] = pd.to_datetime(concat_df[\"date\"])\n",
    "concat_df[\"time\"] = pd.to_datetime(concat_df[\"time\"], format=\"%H:%M:%S\")"
   ]
  },
  {
   "attachments": {},
   "cell_type": "markdown",
   "metadata": {},
   "source": [
    "We will create a few new columns that are string formatted derivatives of the datetime column that will help with visualising the data. We will also create some integer columns for day in week, month, quarter, and hours and minutes since midnight. This is to assist in any later analysis. "
   ]
  },
  {
   "cell_type": "code",
   "execution_count": 4,
   "metadata": {
    "tags": [
     "hide-input"
    ]
   },
   "outputs": [],
   "source": [
    "# extracting various time units from 'dt' column\n",
    "concat_df[\"hour-minutes\"] = concat_df[\"dt\"].dt.strftime(\"%H:%M\")\n",
    "concat_df[\"year-month-day-hour\"] = concat_df[\"dt\"].dt.strftime(\"%Y-%m-%d %H\")\n",
    "concat_df[\"year-month-hour\"] = concat_df[\"dt\"].dt.strftime(\"%Y-%m %H\")\n",
    "concat_df[\"month-hour\"] = concat_df[\"dt\"].dt.strftime(\"%m %H\")\n",
    "concat_df[\"year-month\"] = concat_df[\"dt\"].dt.strftime(\"%Y-%m\")\n",
    "concat_df[\"year-week\"] = concat_df[\"date\"].dt.strftime(\"%Y-%U\")\n",
    "concat_df[\"hours_since_midnight\"] = concat_df[\"dt\"].dt.hour\n",
    "concat_df[\"minutes_since_midnight\"] = concat_df[\"time\"].apply(\n",
    "    lambda t: t.hour * 60 + t.minute\n",
    ")\n",
    "concat_df[\"year-quarter\"] = concat_df[\"dt\"].apply(\n",
    "    lambda x: f\"{x.year}-{(x.month - 1) // 3 + 1}\"\n",
    ")\n",
    "concat_df[\"month\"] = concat_df[\"date\"].dt.month\n",
    "concat_df[\"quarter\"] = concat_df[\"date\"].dt.quarter\n",
    "concat_df[\"day_in_week\"] = concat_df[\"date\"].dt.dayofweek\n",
    "concat_df[\"day_of_week\"] = concat_df[\"date\"].dt.day_name()"
   ]
  },
  {
   "attachments": {},
   "cell_type": "markdown",
   "metadata": {},
   "source": [
    "The next step is to filter the data on the location field as we are only interested in the NclNorthumberlandStSavilleRowEast and NclNorthumberlandStSavilleRowWest sensors initially. We will save these as seperate dataframes `east_df` and `west_df` and pickle them to preserve column data types when we need to read them in other notebooks."
   ]
  },
  {
   "cell_type": "code",
   "execution_count": 5,
   "metadata": {
    "tags": [
     "hide-input"
    ]
   },
   "outputs": [],
   "source": [
    "# dividing data into east and west dataframes\n",
    "east_df = concat_df[concat_df[\"location\"] == \"NclNorthumberlandStSavilleRowEast\"]\n",
    "west_df = concat_df[concat_df[\"location\"] == \"NclNorthumberlandStSavilleRowWest\"]\n",
    "\n",
    "DATA_PATH = \"../data/saville_row_east_west/\"\n",
    "\n",
    "east_df.to_csv(os.path.join(DATA_PATH, \"east_df.csv\"))\n",
    "west_df.to_csv(os.path.join(DATA_PATH, \"west_df.csv\"))\n",
    "\n",
    "east_df.to_pickle(os.path.join(DATA_PATH, \"east_df.pkl\"))\n",
    "west_df.to_pickle(os.path.join(DATA_PATH, \"west_df.pkl\"))"
   ]
  },
  {
   "cell_type": "code",
   "execution_count": 6,
   "metadata": {
    "tags": [
     "hide-input"
    ]
   },
   "outputs": [
    {
     "name": "stdout",
     "output_type": "stream",
     "text": [
      "New columns and data types:\n"
     ]
    },
    {
     "data": {
      "text/html": [
       "<div>\n",
       "<style scoped>\n",
       "    .dataframe tbody tr th:only-of-type {\n",
       "        vertical-align: middle;\n",
       "    }\n",
       "\n",
       "    .dataframe tbody tr th {\n",
       "        vertical-align: top;\n",
       "    }\n",
       "\n",
       "    .dataframe thead th {\n",
       "        text-align: right;\n",
       "    }\n",
       "</style>\n",
       "<table border=\"1\" class=\"dataframe\">\n",
       "  <thead>\n",
       "    <tr style=\"text-align: right;\">\n",
       "      <th></th>\n",
       "      <th>dtype</th>\n",
       "    </tr>\n",
       "  </thead>\n",
       "  <tbody>\n",
       "    <tr>\n",
       "      <th>dt</th>\n",
       "      <td>datetime64[ns]</td>\n",
       "    </tr>\n",
       "    <tr>\n",
       "      <th>value</th>\n",
       "      <td>int64</td>\n",
       "    </tr>\n",
       "    <tr>\n",
       "      <th>veh_class</th>\n",
       "      <td>object</td>\n",
       "    </tr>\n",
       "    <tr>\n",
       "      <th>dir</th>\n",
       "      <td>object</td>\n",
       "    </tr>\n",
       "    <tr>\n",
       "      <th>location</th>\n",
       "      <td>object</td>\n",
       "    </tr>\n",
       "    <tr>\n",
       "      <th>category</th>\n",
       "      <td>object</td>\n",
       "    </tr>\n",
       "    <tr>\n",
       "      <th>key</th>\n",
       "      <td>object</td>\n",
       "    </tr>\n",
       "    <tr>\n",
       "      <th>date</th>\n",
       "      <td>datetime64[ns]</td>\n",
       "    </tr>\n",
       "    <tr>\n",
       "      <th>time</th>\n",
       "      <td>datetime64[ns]</td>\n",
       "    </tr>\n",
       "    <tr>\n",
       "      <th>hour-minutes</th>\n",
       "      <td>object</td>\n",
       "    </tr>\n",
       "    <tr>\n",
       "      <th>year-month-day-hour</th>\n",
       "      <td>object</td>\n",
       "    </tr>\n",
       "    <tr>\n",
       "      <th>year-month-hour</th>\n",
       "      <td>object</td>\n",
       "    </tr>\n",
       "    <tr>\n",
       "      <th>month-hour</th>\n",
       "      <td>object</td>\n",
       "    </tr>\n",
       "    <tr>\n",
       "      <th>year-month</th>\n",
       "      <td>object</td>\n",
       "    </tr>\n",
       "    <tr>\n",
       "      <th>year-week</th>\n",
       "      <td>object</td>\n",
       "    </tr>\n",
       "    <tr>\n",
       "      <th>hours_since_midnight</th>\n",
       "      <td>int32</td>\n",
       "    </tr>\n",
       "    <tr>\n",
       "      <th>minutes_since_midnight</th>\n",
       "      <td>int64</td>\n",
       "    </tr>\n",
       "    <tr>\n",
       "      <th>year-quarter</th>\n",
       "      <td>object</td>\n",
       "    </tr>\n",
       "    <tr>\n",
       "      <th>month</th>\n",
       "      <td>int32</td>\n",
       "    </tr>\n",
       "    <tr>\n",
       "      <th>quarter</th>\n",
       "      <td>int32</td>\n",
       "    </tr>\n",
       "    <tr>\n",
       "      <th>day_in_week</th>\n",
       "      <td>int32</td>\n",
       "    </tr>\n",
       "    <tr>\n",
       "      <th>day_of_week</th>\n",
       "      <td>object</td>\n",
       "    </tr>\n",
       "  </tbody>\n",
       "</table>\n",
       "</div>"
      ],
      "text/plain": [
       "                                 dtype\n",
       "dt                      datetime64[ns]\n",
       "value                            int64\n",
       "veh_class                       object\n",
       "dir                             object\n",
       "location                        object\n",
       "category                        object\n",
       "key                             object\n",
       "date                    datetime64[ns]\n",
       "time                    datetime64[ns]\n",
       "hour-minutes                    object\n",
       "year-month-day-hour             object\n",
       "year-month-hour                 object\n",
       "month-hour                      object\n",
       "year-month                      object\n",
       "year-week                       object\n",
       "hours_since_midnight             int32\n",
       "minutes_since_midnight           int64\n",
       "year-quarter                    object\n",
       "month                            int32\n",
       "quarter                          int32\n",
       "day_in_week                      int32\n",
       "day_of_week                     object"
      ]
     },
     "metadata": {},
     "output_type": "display_data"
    }
   ],
   "source": [
    "print(\"New columns and data types:\")\n",
    "df = pd.DataFrame(east_df.dtypes)\n",
    "df.columns = [\"dtype\"]\n",
    "display(df)"
   ]
  },
  {
   "attachments": {},
   "cell_type": "markdown",
   "metadata": {},
   "source": [
    "Now lets have a look at some of the attributes and features that are of interest. We can see that the data has significant gaps - around 15% of the data over this period is missing if we calculate the number of 15 minute periods that exist between the start and end dates. We can also see that each sensor direction contains two directional vectors. These describe whether a persons direction of travel is left or right across the CCTV footage. "
   ]
  },
  {
   "cell_type": "code",
   "execution_count": 7,
   "metadata": {
    "tags": [
     "hide-input"
    ]
   },
   "outputs": [
    {
     "name": "stdout",
     "output_type": "stream",
     "text": [
      "East | Length: 79522\n",
      "West | Length: 79787\n",
      "\n",
      "East | Start date: 2021-12-02 14:00:00 | End date: 2023-03-31 23:45:00\n",
      "West | Start date: 2021-12-02 14:00:00 | End date: 2023-03-31 23:45:00\n",
      "\n",
      "East | Length if complete: 93006\n",
      "West | Length if complete: 93006\n",
      "\n",
      "East | Completeness: 85.5%\n",
      "West | Completeness: 85.8%\n",
      "\n",
      "East | Null count for flow: 0 | Null count for datetime: 0\n",
      "West | Null count for flow: 0 | Null count for datetime: 0\n",
      "\n",
      "East | Directional vectors: ['northeast_to_southeast' 'southeast_to_northeast']\n",
      "West | Directional vectors: ['northwest_to_southwest' 'southwest_to_northwest']\n"
     ]
    }
   ],
   "source": [
    "print(f\"East | Length: {len(east_df)}\")\n",
    "print(f\"West | Length: {len(west_df)}\")\n",
    "print()\n",
    "print(f\"East | Start date: {east_df['dt'].min()} | End date: {east_df['dt'].max()}\")\n",
    "print(f\"West | Start date: {west_df['dt'].min()} | End date: {west_df['dt'].max()}\")\n",
    "print()\n",
    "diff = east_df[\"dt\"].max() - east_df[\"dt\"].min()\n",
    "intervals = int(diff.total_seconds() // (15 * 60))\n",
    "\n",
    "print(f\"East | Length if complete: {intervals*2}\")\n",
    "print(f\"West | Length if complete: {intervals*2}\")\n",
    "print()\n",
    "\n",
    "print(f\"East | Completeness: {len(east_df)/(2*intervals)*100:.1f}%\")\n",
    "print(f\"West | Completeness: {len(west_df)/(2*intervals)*100:.1f}%\")\n",
    "print()\n",
    "print(\n",
    "    f\"East | Null count for flow: {east_df['value'].isna().sum()} | Null count for datetime: {east_df['dt'].isna().sum()}\"\n",
    ")\n",
    "print(\n",
    "    f\"West | Null count for flow: {west_df['value'].isna().sum()} | Null count for datetime: {west_df['dt'].isna().sum()}\"\n",
    ")"
   ]
  },
  {
   "cell_type": "code",
   "execution_count": null,
   "metadata": {
    "tags": [
     "hide-input"
    ]
   },
   "outputs": [],
   "source": [
    "print()\n",
    "print(f\"East | Directional vectors: {east_df['dir'].unique()}\")\n",
    "print(f\"West | Directional vectors: {west_df['dir'].unique()}\")"
   ]
  },
  {
   "cell_type": "code",
   "execution_count": null,
   "metadata": {
    "tags": [
     "hide-input"
    ]
   },
   "outputs": [],
   "source": []
  }
 ],
 "metadata": {
  "kernelspec": {
   "display_name": ".venv",
   "language": "python",
   "name": "python3"
  },
  "language_info": {
   "codemirror_mode": {
    "name": "ipython",
    "version": 3
   },
   "file_extension": ".py",
   "mimetype": "text/x-python",
   "name": "python",
   "nbconvert_exporter": "python",
   "pygments_lexer": "ipython3",
   "version": "3.10.11"
  }
 },
 "nbformat": 4,
 "nbformat_minor": 2
}

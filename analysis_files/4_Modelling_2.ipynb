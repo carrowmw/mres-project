{
 "cells": [
  {
   "attachments": {},
   "cell_type": "markdown",
   "metadata": {},
   "source": [
    "(4)=\n",
    "(4)=\n",
    "(4)=\n",
    "# 4 Modelling"
   ]
  },
  {
   "cell_type": "code",
   "execution_count": 1,
   "metadata": {
    "tags": [
     "hide-input"
    ]
   },
   "outputs": [],
   "source": [
    "import pandas as pd\n",
    "import matplotlib.pyplot as plt\n",
    "import os\n",
    "import numpy as np"
   ]
  },
  {
   "cell_type": "code",
   "execution_count": 2,
   "metadata": {
    "tags": [
     "hide-input"
    ]
   },
   "outputs": [],
   "source": [
    "# create the file paths for reading in data and for outputting figures and tables\n",
    "DATA_PATH = \"../data/saville_row_east_west/\"\n",
    "OUTPUT_TABLES_PATH = \"../output/tables/4/\"\n",
    "OUTPUT_FIGURES_PATH = \"../output/figures/4/\"\n",
    "\n",
    "os.makedirs(DATA_PATH, exist_ok=True)\n",
    "os.makedirs(OUTPUT_TABLES_PATH, exist_ok=True)\n",
    "os.makedirs(OUTPUT_FIGURES_PATH, exist_ok=True)\n",
    "\n",
    "# get custom color palette and colormap\n",
    "from eda_helper import get_custom_palette, get_custom_colormap\n",
    "\n",
    "custom_palette = get_custom_palette()\n",
    "custom_colormap = get_custom_colormap()\n",
    "\n",
    "# read in the files for exploration\n",
    "east_df = pd.read_pickle(os.path.join(DATA_PATH, \"east_df.pkl\"))\n",
    "west_df = pd.read_pickle(os.path.join(DATA_PATH, \"west_df.pkl\"))\n",
    "\n",
    "west_complete_days_df = pd.read_pickle(\n",
    "    os.path.join(DATA_PATH, \"west_complete_days_df.pkl\")\n",
    ")"
   ]
  },
  {
   "cell_type": "code",
   "execution_count": null,
   "metadata": {
    "tags": [
     "hide-input"
    ]
   },
   "outputs": [],
   "source": []
  },
  {
   "attachments": {},
   "cell_type": "markdown",
   "metadata": {},
   "source": [
    "(4.1)=\n",
    "## 4.1 Select Modelling Technique\n",
    "\n",
    "Outline the types of models you are considering for the project. For this case, you're considering using a Long Short-Term Memory (LSTM) neural network model for time-series prediction."
   ]
  },
  {
   "attachments": {},
   "cell_type": "markdown",
   "metadata": {},
   "source": [
    "(4.2)=\n",
    "## 4.2 Generate Test Design\n",
    "\n",
    "Discuss how you will evaluate your model's performance. For time-series data, this could involve setting aside a portion of your dataset for validation or using techniques like time-series cross-validation."
   ]
  },
  {
   "attachments": {},
   "cell_type": "markdown",
   "metadata": {},
   "source": [
    "(4.3)=\n",
    "## 4.3 Build Model\n",
    "\n",
    "This section would discuss the specifics of the model architecture you decided on (the LSTM, in your case). Discuss your choice of parameters, like the number of layers, hidden units, input size, etc., and why you chose them. Also, describe the software and libraries used to create the model."
   ]
  },
  {
   "attachments": {},
   "cell_type": "markdown",
   "metadata": {},
   "source": [
    "(4.4)=\n",
    "## 4.4 Model Assumptions\n",
    "\n",
    "Discuss any assumptions that your model makes. For example, LSTMs assume that future values can be predicted from past values, which may not always be accurate."
   ]
  },
  {
   "attachments": {},
   "cell_type": "markdown",
   "metadata": {},
   "source": [
    "(4.5)=\n",
    "## 4.5 Model Training\n",
    "\n",
    "Document the process of training your model. Include any details about the learning rate, loss function, optimizer, number of epochs, etc. Also, include any details about the training process itself, like the hardware used, how long it took, any challenges you encountered, etc."
   ]
  },
  {
   "attachments": {},
   "cell_type": "markdown",
   "metadata": {},
   "source": [
    "(4.6)=\n",
    "## 4.6 Model Evaluation\n",
    "\n",
    "Detail the performance of your model on the validation dataset. Discuss any metrics you used to evaluate the model's performance (like MSE, MAE, etc.), and why you chose these metrics. Also, discuss how the model performed with respect to these metrics, and any steps you took to improve its performance (like tuning hyperparameters, adjusting the model architecture, etc.)."
   ]
  },
  {
   "attachments": {},
   "cell_type": "markdown",
   "metadata": {},
   "source": [
    "(4.7)=\n",
    "## 4.7 Model Interpretation and Visualisation\n",
    "\n",
    "Interpret the predictions made by your model, and discuss any insights they may provide. If possible, visualise these predictions using appropriate plots."
   ]
  },
  {
   "attachments": {},
   "cell_type": "markdown",
   "metadata": {},
   "source": [
    "(4.8)=\n",
    "## 4.8 Model Validation\n",
    "\n",
    "Discuss any additional steps you took to validate your model's performance. This could include applying it to an independent test set, checking its performance against a simpler model, or verifying its results with a domain expert."
   ]
  },
  {
   "attachments": {},
   "cell_type": "markdown",
   "metadata": {},
   "source": [
    "(4.9)=\n",
    "## 4.9 Challenges and Learnings\n",
    "\n",
    "Discuss any challenges faced during the model building and evaluation process and how you overcame them. Mention what you learned during this process."
   ]
  },
  {
   "attachments": {},
   "cell_type": "markdown",
   "metadata": {},
   "source": [
    "(4.10)=\n",
    "## 4.10 Conclusion and Next Steps...\n",
    "\n",
    "Summarize your findings, the performance of your model, and potential next steps. This could include ideas for improving the model's performance, plans for deploying the model, or other tasks that could build upon your current work."
   ]
  },
  {
   "attachments": {},
   "cell_type": "markdown",
   "metadata": {},
   "source": []
  }
 ],
 "metadata": {
  "kernelspec": {
   "display_name": ".venv",
   "language": "python",
   "name": "python3"
  },
  "language_info": {
   "codemirror_mode": {
    "name": "ipython",
    "version": 3
   },
   "file_extension": ".py",
   "mimetype": "text/x-python",
   "name": "python",
   "nbconvert_exporter": "python",
   "pygments_lexer": "ipython3",
   "version": "3.10.11"
  }
 },
 "nbformat": 4,
 "nbformat_minor": 2
}

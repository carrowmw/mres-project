{
 "cells": [
  {
   "attachments": {},
   "cell_type": "markdown",
   "metadata": {},
   "source": [
    "# 2.2 Data Description Report\n",
    "\n",
    "Here, we'll provide a detailed description of the collected data:\n",
    "\n",
    "* A detailed description of each dataset: what each dataset contains, what each column represents, the type of values (numerical, categorical, etc.), and any coding or transformation used.\n",
    "* Number of instances and attributes: how many data points are in the dataset and how many features are available for each data point.\n",
    "* Identification of target features: If applicable, identify the feature or features that we will be predicting or classifying."
   ]
  },
  {
   "cell_type": "code",
   "execution_count": null,
   "metadata": {},
   "outputs": [],
   "source": []
  }
 ],
 "metadata": {
  "language_info": {
   "name": "python"
  },
  "orig_nbformat": 4
 },
 "nbformat": 4,
 "nbformat_minor": 2
}

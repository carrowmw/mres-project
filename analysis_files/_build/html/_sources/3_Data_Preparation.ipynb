{
 "cells": [
  {
   "attachments": {},
   "cell_type": "markdown",
   "metadata": {},
   "source": [
    "# 3 Data Preparation"
   ]
  },
  {
   "attachments": {},
   "cell_type": "markdown",
   "metadata": {},
   "source": [
    "## 3.1 Data Selection Rationale\n",
    "\n",
    "* Describe and justify the criteria and methods used to select the data from the initial dataset(s).\n",
    "* Discuss the relevance of the selected data to the data mining goals defined earlier.\n",
    "* Explain any assumptions made in this process and any implications for the final results.\n",
    "* Include the reasons for including or excluding certain attributes."
   ]
  },
  {
   "attachments": {},
   "cell_type": "markdown",
   "metadata": {},
   "source": [
    "## 3.2 Data Cleaning Report\n",
    "\n",
    "* Detail the process of cleaning the data i.e. dealing missing values, duplicate records, or inconsistent entries.\n",
    "* Discuss the methods used for cleaning (e.g., deletion, imputation, etc.) and a justification of choices.\n",
    "* Highlight any challenges faced during the data cleaning process.\n",
    "* Provide before and after summaries to demonstrate the effects of our cleaning efforts."
   ]
  },
  {
   "attachments": {},
   "cell_type": "markdown",
   "metadata": {},
   "source": [
    "## 3.3 Derived Attributes / Records\n",
    "\n",
    "* Discuss any new attributes or records that were derived from existing ones, such as creating new features through binning, combining attributes, or performing calculations.\n",
    "* Explain why these transformations were done, and how these new attributes will contribute to the data mining goals.\n",
    "* If applicable, describe any generation of synthetic data or aggregation of data at different levels."
   ]
  },
  {
   "attachments": {},
   "cell_type": "markdown",
   "metadata": {},
   "source": [
    "## 3.4 Merged Data\n",
    "\n",
    "* Describe any data that was merged or joined together from different sources or tables.\n",
    "* Discuss the methods used to combine the data and any difficulties faced (like inconsistencies or discrepancies between the datasets).\n",
    "* Explain how any issues were resolved (e.g., how discrepancies were reconciled).\n",
    "* Detail how the merged data was validated to ensure correctness."
   ]
  },
  {
   "attachments": {},
   "cell_type": "markdown",
   "metadata": {},
   "source": [
    "## 3.5 Reformatted Data\n",
    "\n",
    "* Describe the process of reformatting the data for modeling or visualization purposes.\n",
    "* Discuss any transformations of the data into different types (e.g., numerical to categorical, date-time conversions), creation of dummy variables, or re-scaling of features.\n",
    "* Explain how and why any re-sampling procedures were done, if applicable.\n",
    "* Discuss the format that the final dataset(s) will be in for the subsequent modeling or visualization stage."
   ]
  },
  {
   "attachments": {},
   "cell_type": "markdown",
   "metadata": {},
   "source": []
  }
 ],
 "metadata": {
  "language_info": {
   "name": "python"
  }
 },
 "nbformat": 4,
 "nbformat_minor": 2
}

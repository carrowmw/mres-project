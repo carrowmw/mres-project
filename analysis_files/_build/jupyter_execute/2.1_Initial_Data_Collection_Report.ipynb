{
 "cells": [
  {
   "attachments": {},
   "cell_type": "markdown",
   "metadata": {},
   "source": [
    "(2.1)=\n",
    "## 2.1 Data Collection Report\n",
    "\n",
    "In this section, we will describe the initial collection of data for each dataset. This includes:\n",
    "\n",
    "* Description of the data sources used.\n",
    "* The methods used to gather the data.\n",
    "* Any difficulties or issues that came up during data collection."
   ]
  },
  {
   "attachments": {},
   "cell_type": "markdown",
   "metadata": {},
   "source": [
    "(2.1.1)=\n",
    "### 2.1.1 CSV Pedestrian Count Data\n",
    "\n",
    "(2.1.1.1)=\n",
    "#### 2.1.1.1 Data description\n",
    "\n",
    "This dataset is collected using object detection and CCTV footage that identifies and counts the heads of individuals in motion. Algorithms compute the bearing of each detected head object, categorizing its movement into one of sixteen possible directional vectors derived from the eight cardinal and intercardinal directions (for example, from Northeast to Southwest or East to West). The data has been collected intermittently a period of roughly 3 years. The intermittency is unique to each sensor. To see a detailed overview of the data used in the EDA skip to {ref} `section 2.2<2.2.1.3>`."
   ]
  },
  {
   "attachments": {},
   "cell_type": "markdown",
   "metadata": {},
   "source": [
    "(2.1.1.2)=\n",
    "#### 2.1.1.2 Data collection methods\n",
    "\n",
    "The raw data in this section was collated by a member of the Urban Observatory as an initial test dataset for this project and is stored as a single csv file. The data is also available through the Urban Obervatory REST API, and we have built loaders for accessing the data this way, which will be utilised for later objectives. \n",
    "\n",
    "(2.1.1.3)=\n",
    "#### 2.1.1.3 Difficulties in data collection\n",
    "\n",
    "There were no notable difficulties in collecting this data as it publically available and is released under the UK Open Government Licence."
   ]
  }
 ],
 "metadata": {
  "kernelspec": {
   "display_name": ".venv",
   "language": "python",
   "name": "python3"
  },
  "language_info": {
   "codemirror_mode": {
    "name": "ipython",
    "version": 3
   },
   "file_extension": ".py",
   "mimetype": "text/x-python",
   "name": "python",
   "nbconvert_exporter": "python",
   "pygments_lexer": "ipython3",
   "version": "3.10.11"
  }
 },
 "nbformat": 4,
 "nbformat_minor": 2
}
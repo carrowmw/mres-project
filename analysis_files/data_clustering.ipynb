{
 "cells": [
  {
   "cell_type": "code",
   "execution_count": 1,
   "metadata": {},
   "outputs": [
    {
     "data": {
      "image/png": "[encoded data removed]",
      "text/plain": [
       "<Figure size 800x100 with 1 Axes>"
      ]
     },
     "metadata": {},
     "output_type": "display_data"
    }
   ],
   "source": [
    "import pandas as pd\n",
    "import numpy as np\n",
    "import os\n",
    "import re\n",
    "import datetime\n",
    "\n",
    "\n",
    "import seaborn as sns\n",
    "import matplotlib.pyplot as plt\n",
    "from matplotlib.colors import ListedColormap, LinearSegmentedColormap, Normalize\n",
    "from matplotlib.cm import ScalarMappable\n",
    "\n",
    "sns.color_palette()\n",
    "#use html color codes\n",
    "cdt = ['#4060AF', '#FF5416', '#FDC82F', '#00B2A9', '#E7E6E6', '#93509E', '#00A9E0', '#CF0071']\n",
    "sns.palplot(sns.color_palette(cdt))\n",
    "sns.set_palette(cdt)\n",
    "custom = ListedColormap(sns.color_palette(cdt))\n",
    "\n",
    "colors = ['#22335C', '#00B2A9', '#FDC82F']\n",
    "custom_colormap = LinearSegmentedColormap.from_list('custom_colormap', colors)\n",
    "\n",
    "dfs = {}\n",
    "path = '../data/n_st_csv_22_23/'\n",
    "for file in os.listdir(path):\n",
    "    df = pd.read_csv(path + file)\n",
    "    parts = re.split(r\"[-.]\", file) # extracts the date from the file name\n",
    "    date = f'{parts[-3]}-{parts[-2]}'\n",
    "    dfs[date] = df # stores each month as a dictionary entry"
   ]
  },
  {
   "cell_type": "code",
   "execution_count": 2,
   "metadata": {},
   "outputs": [],
   "source": [
    "locations = {key: value['location'] for key, value in dfs.items()}"
   ]
  },
  {
   "cell_type": "code",
   "execution_count": 3,
   "metadata": {},
   "outputs": [],
   "source": [
    "concat_df = pd.concat([df.assign(key=key) for key, df in dfs.items()])\n",
    "\n",
    "concat_df[['date', 'time']] = concat_df['dt'].str.split(' ', expand=True)\n",
    "\n",
    "concat_df['dt'] = pd.to_datetime(concat_df['dt'])\n",
    "concat_df['date'] = pd.to_datetime(concat_df['date'])\n",
    "concat_df['time'] = pd.to_datetime(concat_df['time'], format='%H:%M:%S').dt.time\n",
    "concat_df['year-month-day-hour'] = concat_df['dt'].dt.strftime('%Y-%m-%d %H')\n",
    "concat_df['year-month-hour'] = concat_df['dt'].dt.strftime('%Y-%m %H')\n",
    "concat_df['month-hour'] = concat_df['dt'].dt.strftime('%m %H')\n",
    "concat_df['hour'] = concat_df['dt'].dt.hour\n",
    "concat_df['month'] = concat_df['date'].dt.month\n",
    "concat_df['quarter'] = concat_df['date'].dt.quarter\n",
    "concat_df['year-month'] = concat_df['dt'].dt.strftime('%Y-%m')\n",
    "concat_df['year-week'] = concat_df['date'].dt.strftime('%Y-%U')\n",
    "concat_df['year-quarter'] = concat_df['dt'].apply(lambda x: f\"{x.year}-{(x.month - 1) // 3 + 1}\")\n",
    "concat_df['day_of_week'] = concat_df['date'].dt.day_name()\n",
    "\n",
    "concat_df = concat_df[(concat_df['location'] == 'NclNorthumberlandStSavilleRowEast') | (concat_df['location'] == 'NclNorthumberlandStSavilleRowWest')]\n",
    "east_df = concat_df[(concat_df['location'] == 'NclNorthumberlandStSavilleRowEast')]\n",
    "west_df = concat_df[(concat_df['location'] == 'NclNorthumberlandStSavilleRowWest')]"
   ]
  },
  {
   "cell_type": "code",
   "execution_count": null,
   "metadata": {},
   "outputs": [],
   "source": []
  }
 ],
 "metadata": {
  "kernelspec": {
   "display_name": ".venv",
   "language": "python",
   "name": "python3"
  },
  "language_info": {
   "codemirror_mode": {
    "name": "ipython",
    "version": 3
   },
   "file_extension": ".py",
   "mimetype": "text/x-python",
   "name": "python",
   "nbconvert_exporter": "python",
   "pygments_lexer": "ipython3",
   "version": "3.10.11"
  },
  "orig_nbformat": 4
 },
 "nbformat": 4,
 "nbformat_minor": 2
}

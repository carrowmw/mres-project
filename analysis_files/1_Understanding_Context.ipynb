{
 "cells": [
  {
   "attachments": {},
   "cell_type": "markdown",
   "metadata": {},
   "source": [
    "(1)=\n",
    "# 1 Understanding Context"
   ]
  },
  {
   "attachments": {},
   "cell_type": "markdown",
   "metadata": {},
   "source": [
    "(1.1)=\n",
    "## 1.1 Background\n",
    "\n",
    "The purpose of the wider project is to develop the tools needed to create systems for situational awareness in the urban context. This project is carried out as part of a research project for the Geospatial Systems CDT at Newcastle University and is funded by DSTL. \n",
    "\n",
    "| Latency Level  | Description                                                                                                                        |\n",
    "|----------------|------------------------------------------------------------------------------------------------------------------------------------|\n",
    "| Machine-speed real-time | Minimal human intervention. Decision-making at machine speed for rapid and automated response such as immediate traffic routing, congestion control, utility management, etc. |\n",
    "| Near real-time | Human to coordinate from a predefined set of possible responses. Decision-making for rapid response planning, such as short-term public transportation adjustments, law enforcement dispatching, and emergency response coordination. |\n",
    "| Short latency | Human-machine collaboration. Decisions made within a few hours to a day, such as daily route planning for waste management, minor infrastructure repair prioritization, and park maintenance scheduling. |\n",
    "| Medium latency | Automated suggestions with human review. Decision-making over a few days to a week, such as neighborhood resource allocation, parking regulations adjustment, and weekly public service planning. |\n",
    "| Long latency | Human-led with machine assistance. Decisions over weeks to months, such as public space redesign, road construction planning, and seasonal urban farming planning. |\n",
    "| Extended latency | Mainly human decision-making. Decision-making over urban planning period - years, such as urban development planning, zoning law changes, and public transportation network redesign. |\n",
    "| Archive latency | No automation, human creates a bespoke model for a specific planning problem. Long term historical data used for retrospective studies and long-term planning, like demographic changes, urban growth patterns, and infrastructure ageing patterns. |\n",
    "\n",
    "The project utilises the data made available from the Urban Observatory (UO) in Newcastle upon Tyne, specifically pedestrian count data, generated from object recognition algorithms on CCTV cameras {cite}`chen2021estimating`. The challenge in this project is gaining insight into the *temporal dynamics* and *spatial interaction* on the basis of the UO data. "
   ]
  },
  {
   "attachments": {},
   "cell_type": "markdown",
   "metadata": {},
   "source": [
    "(1.2)=\n",
    "## 1.2 Project Objectives\n",
    "\n",
    "1.\tQuantify changes in temporal patterns using machine learning (ML) and frequency analysis.\n",
    "    * Identify clusters within the data (using unsupervised learning).\n",
    "    * Detect signals within the data (using period analysis).\n",
    "2.\tQuantify changes in spatial patterns using Spatial Autocorrelation (SAC) and machine learning.\n",
    "    * Analyse how the SAC of pedestrian data between sensors varies over time.\n",
    "    * Examine how this variation changes at distinct levels of temporal granularity (e.g., daily, weekly, monthly, and seasonal averages).\n",
    "3.\tTrain and validate a deep-learning model using urban observatory data to make spatiotemporal predictions for hyperlocal situational awareness.\n",
    "    * Predict the datetime and sensor location of unseen data points."
   ]
  },
  {
   "attachments": {},
   "cell_type": "markdown",
   "metadata": {},
   "source": [
    "(1.3)=\n",
    "## 1.3 Project Success Criteria\n",
    "\n",
    "1. Gain insight into how the sensor data is clustered.\n",
    "2. Identify the signals within the sensor data (which signals have the highest power).\n",
    "3. Evaluate how SAC between data from different sensors depreciates with distance. \n",
    "    * For this experiment, we will compare data from the same time period for each sensor and measure the SAC between several sensors in a small area.\n",
    "    * We will measure using LISA (Local Indicators of Spatial Autocorrelation).\n",
    "4. Assess how SAC changes with temporal aggregation. \n",
    "    * For this experiment, we will repeat the steps in the previous criterion, but this time use a variety of temporal aggregations.\n",
    "    * We will measure this by showing which temporal aggregations show the greatest spatial autocorrelation again using LISA.\n",
    "5. Predict the time of the year and the sensor location from which a specific time-series window originated."
   ]
  },
  {
   "attachments": {},
   "cell_type": "markdown",
   "metadata": {},
   "source": [
    "(1.4)=\n",
    "## 1.4 Data Mining Objectives\n",
    "\n",
    "In the first iteration of this report, we will focus on the first objective, aiming to at least partly deliver the first two project success criteria."
   ]
  },
  {
   "attachments": {},
   "cell_type": "markdown",
   "metadata": {},
   "source": [
    "(1.5)=\n",
    "## 1.5 Data Mining Success Criteria"
   ]
  },
  {
   "attachments": {},
   "cell_type": "markdown",
   "metadata": {},
   "source": [
    "- [x] Identify patterns or trends in the pedestrian count data that can be utilized for further analysis.\n",
    "- [x] Establish an effective data preprocessing and cleaning method to improve the quality of data for ML models.\n",
    "- [ ] Develop and train a predictive model that can classify unseen data points in terms of datetime and sensor accurately.\n",
    "- [ ] Evaluate the model's performance using appropriate metrics, such as accuracy, precision, recall, or F1-score.\n",
    "- [ ] Document the insights gained from the data mining process that can contribute to the overall project objectives."
   ]
  },
  {
   "attachments": {},
   "cell_type": "markdown",
   "metadata": {},
   "source": [
    "## References"
   ]
  },
  {
   "attachments": {},
   "cell_type": "markdown",
   "metadata": {},
   "source": [
    "```{bibliography}\n",
    ":filter: docname in docnames\n",
    "```"
   ]
  }
 ],
 "metadata": {
  "kernelspec": {
   "display_name": ".venv",
   "language": "python",
   "name": "python3"
  },
  "language_info": {
   "name": "python",
   "version": "3.10.11"
  }
 },
 "nbformat": 4,
 "nbformat_minor": 2
}

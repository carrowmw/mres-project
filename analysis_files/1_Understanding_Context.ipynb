{
 "cells": [
  {
   "attachments": {},
   "cell_type": "markdown",
   "metadata": {},
   "source": [
    "## 1.1 Background\n",
    "\n",
    "The purpose of the wider project is to develop the tools needed to create systems for situational awareness in the urban context. This project is carried out as part of a research project for the Geospatial Systems CDT at Newcastle University and is funded by DSTL. \n",
    "\n",
    "The project utilises the data made available from the Urban Observatory (UO) in Newcastle upon Tyne, specifically pedestrian count data, generated from object recognition algorithms on CCTV cameras [@chen2021estimating]. The challenge in this project is gaining insight into the *temporal dynamics* and *spatial interaction* on the basis of the UO data. "
   ]
  },
  {
   "attachments": {},
   "cell_type": "markdown",
   "metadata": {},
   "source": [
    "## 1.2 Project Objectives\n",
    "\n",
    "1.\tQuantify changes in temporal patterns using machine learning (ML) and frequency analysis.\n",
    "    * What clusters exist within the data?\n",
    "    * What signals exist within the data?\n",
    "2.\tQuantify changes in spatial patterns using SAC and machine learning.\n",
    "    * How does the SAC of pedestrian data between sensors vary over time?\n",
    "    * How does this variation change at distinct levels of temporal granularity? (e.g., daily, weekly, monthly, and seasonal averages) - do we see greater correlation when looking at daily/weekly/monthly mean/sum vs the raw 15 minute aggregations?\n",
    "3.\tTrain and validate a deep-learning model using the urban observatory data to make spatiotemporal predictions that amount to hyperlocal situational awareness.\n",
    "    * Can unseen data points be classified in terms of datetime?\n",
    "    * Can unseen data points be classified in terms of sensor?"
   ]
  },
  {
   "attachments": {},
   "cell_type": "markdown",
   "metadata": {},
   "source": [
    "## 1.3 Project Success Criteria\n",
    "\n",
    "1. Gain insight into how the sensor data is clustered.\n",
    "2. Gain insight into what signals are contained within the sensor data.\n",
    "3. Evaluate how SAC between data from different sensors depreciates with distance. \n",
    "    * (For this experiment we will compare data from the same time period for each sensor and measure the SAC between several sensors in a small area). \n",
    "4. Evaluate how SAC changes with temporal aggregation. \n",
    "    * (For this experiment we will repeat the steps in the previous criterion but this time use a variety of temporal aggregations). \n",
    "5. Predict where in the year a specific time-series window came from.\n",
    "6. Predict which sensor a specific time-series window came from."
   ]
  },
  {
   "attachments": {},
   "cell_type": "markdown",
   "metadata": {},
   "source": [
    "## 1.4 Data Mining Objectives\n",
    "\n",
    "For the first iteration of this report we will be focussing on the first objective and should (atleast partly) deliver the first two project success criteria. "
   ]
  },
  {
   "attachments": {},
   "cell_type": "markdown",
   "metadata": {},
   "source": [
    "## 1.5 Data Mining Success Criteria"
   ]
  }
 ],
 "metadata": {
  "kernelspec": {
   "display_name": ".venv",
   "language": "python",
   "name": "python3"
  },
  "language_info": {
   "name": "python",
   "version": "3.10.11"
  },
  "orig_nbformat": 4
 },
 "nbformat": 4,
 "nbformat_minor": 2
}
